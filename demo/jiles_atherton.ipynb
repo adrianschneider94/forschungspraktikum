{
 "cells": [
  {
   "cell_type": "code",
   "execution_count": 1,
   "metadata": {},
   "outputs": [],
   "source": [
    "import numpy as np\n",
    "import matplotlib.pyplot as plt\n",
    "import scipy.constants as constants\n",
    "from forschungspraktikum.functions import langevin, grad_langevin"
   ]
  },
  {
   "cell_type": "markdown",
   "metadata": {},
   "source": [
    "# Skalares Jiles-Atherton-Modell\n",
    "\n",
    "Das Jiles-Atherton-Modell ist eines der meistverwendeten Modelle für ferromagnetische Hysterese.\n",
    "\n",
    "Die konstituierenden Gleichungen sind physikalisch motiviert -- das Modell weist dennoch einige physikalische Unschlüssigkeiten auf. Nichtsdestotrotz findet es vielfache Anwendung, da es die Messdaten relativ gut reproduziert."
   ]
  },
  {
   "cell_type": "markdown",
   "metadata": {},
   "source": [
    "## Anhysterische Kennlinie\n",
    "\n",
    "Für die anhystereische Kennlinie (Wendepunkte bei symmetrischer Aussteuerung) wird eine Langevin-Funktion verwendet:\n",
    "\n",
    "\\begin{equation}\n",
    "    M_\\text{an} = M_\\text{sat} \\mathrm{L}\\left(\\frac{H_\\text{e}}{a}\\right),\n",
    "\\end{equation}\n",
    "\n",
    "mit $L(x) = \\coth(x)-\\frac{1}{x}$, den Modellparameteren $a$ und $M_\\text{sat}$ und dem effektiven Feld $H_\\text{e} := H + \\alpha M$, wobei $\\alpha$ ein weiterer Modellparameter ist.\n",
    "\n",
    "Die Langevin-Funktion wird [hier](langevin.ipynb) näher beschrieben."
   ]
  },
  {
   "cell_type": "markdown",
   "metadata": {},
   "source": [
    "## Pinning\n",
    "\n",
    "Die Hysterese in magnetischen Materialien wird überwiegend über das Pinning erklärt: Die Verschiebung der Blochwände geschieht nicht linear, sondern wird durch Defekte in der Kristallstruktur an manchen Punkten aufgehalten. Dies ist das sogenannte Pinning. Ist ein „Pin” überwunden, zählt die dadurch entstande Magnetisierung zur irreversiblen Magnetisierung, sonst ist sie noch reversibel.\n",
    "\n",
    "Das Pinning wird durch den Pinning-Faktor $k$ modelliert, die Änderung der irreversiblen Magnetisierung pro Änderung des effektiven Feldes ist\n",
    "\n",
    "$$ \\frac{dM_\\text{irr}}{dH_\\text{e}} = \\frac{M_\\text{an} - M_\\text{irr}}{k \\mathop{\\mathrm{sgn}}\\left(\\frac{dH}{dt}\\right)} $$\n",
    "\n",
    "Die „Richtung” des Pinningeffektes ist dabei von der Änderung des äußeren Feldes abhängig, er wirkt immer dem äußeren Feld entgegen."
   ]
  },
  {
   "cell_type": "markdown",
   "metadata": {},
   "source": [
    "## Reversible und irreversible Magnetisierung\n",
    "\n",
    "Die gesamte Magnetisierung besteht aus einem reversiblen und einem irreversiblen Teil:\n",
    "\n",
    "$$ M = M_\\text{rev} + M_\\text{irr}, $$\n",
    "\n",
    "dabei wird der reversible Anteil durch die Abweichung der irreversiblen Magnetisierung von der anhysterischen Kennlinie beschrieben,\n",
    "\n",
    "$$ M_\\text{irr} = c(M_\\text{an} - M_\\text{irr}). $$\n",
    "    \n",
    "Es folgt somit\n",
    "\n",
    "$$ M = (1 - c) M_\\text{irr} + c M_\\text{an}. $$        "
   ]
  },
  {
   "cell_type": "markdown",
   "metadata": {},
   "source": [
    "## Differentielle Magnetisierung\n",
    "\n",
    "Mit den vorgestellten Gleichungen und dem Materialgleichung der makroskopischen Maxwellgleichungen\n",
    "\n",
    "$$ B = \\mu_0 (H + M) $$\n",
    "\n",
    "lässt sich nun die differentielle Magnetisierung ermitteln:\n",
    "\n",
    "\\begin{align}\n",
    "dM &= (1-c)\\ dM_\\text{irr} + c\\ dM_\\text{an}, \\\\\n",
    "dM_\\text{irr} &= \\frac{dM_\\text{irr}}{dH_\\text{e}}\\ dH_\\text{e}, \\\\\n",
    "dM_\\text{an} &= \\frac{M_\\text{sat}}{a} \\frac{d\\mathop{\\mathrm{L}}(H_\\text{e}/a)}{d(H_e/a)} dH_\\text{e}, \\\\\n",
    "dH_\\text{e} &= dH + \\alpha\\ dM\\\\\n",
    "&= \\frac{dB}{\\mu_0} - (1 - \\alpha)\\ dM\n",
    "\\end{align}"
   ]
  },
  {
   "cell_type": "markdown",
   "metadata": {},
   "source": [
    "und somit\n",
    "\n",
    "$$ dM = \\left((1-c)\\frac{dM_\\text{irr}}{dH_\\text{e}} + c\\frac{dM_\\text{an}}{dH_\\text{e}}\\right)dH_\\text{e} = \\frac{dM}{dH_\\text{e}}dH_\\text{e}.$$"
   ]
  },
  {
   "cell_type": "markdown",
   "metadata": {},
   "source": [
    "Man kann nun - abhängig von der Beschreibung des elektrodynamischen Problems - verschiedene Varianten entwickeln:\n",
    "\n",
    "$$ dM = \\frac{dM}{dH_\\text{e}}(dH + \\alpha\\ dM) \\Rightarrow \\frac{dM}{dH} = \\frac{\\frac{dM}{dH_\\text{e}}}{1-\\alpha \\frac{dM}{dH_\\text{e}}} dH$$\n",
    "\n",
    "oder\n",
    "\n",
    "$$ dM = \\frac{dM}{dH_\\text{e}}\\left(\\frac{dB}{\\mu_0} - (1 - \\alpha)\\ dM\\right) \\Rightarrow \\frac{dM}{dB} = \\frac{1}{\\mu_0}\\frac{\\frac{dM}{dH_\\text{e}}}{1 + (1 - \\alpha)\\frac{dM}{dH_\\text{e}}}$$\n"
   ]
  },
  {
   "cell_type": "code",
   "execution_count": 2,
   "metadata": {},
   "outputs": [],
   "source": [
    "# Naturkonstanten\n",
    "mu0 = constants.mu_0\n",
    "\n",
    "# Modellvariablen\n",
    "alpha = 0.0021\n",
    "a = 110.5\n",
    "k = 30.0\n",
    "c = 0.4\n",
    "Msat = 1.35e5"
   ]
  },
  {
   "cell_type": "code",
   "execution_count": 3,
   "metadata": {},
   "outputs": [],
   "source": [
    "def dM_dHe(H, M, H_, M_):\n",
    "    delta = np.sign(H - H_)\n",
    "    He = H + alpha * M\n",
    "    Man = Msat * langevin(He/a)\n",
    "    Mirr = (M - c * Man)/(1.0 - c)\n",
    "    dMirr_dHe = (Man - Mirr)/(k*delta)\n",
    "    dMan_dHe = Msat/a*grad_langevin(He/a)\n",
    "    dMdHe = (1 - c)*dMirr_dHe + c*dMan_dHe\n",
    "    return dMdHe\n",
    "\n",
    "def dM_dH(H, M, H_, M_):\n",
    "    dMdHe = dM_dHe(H, M, H_, M_)\n",
    "    x = dMdHe/(1 - alpha * dMdHe)\n",
    "    return x\n",
    "\n",
    "def dM_dB(B, M, B_, M_):\n",
    "    H = B/mu0 - M\n",
    "    H_ = B_/mu0 - M_\n",
    "    \n",
    "    dMdHe = dM_dHe(H, M, H_, M_)\n",
    "    return 1/mu0 * dMdHe/(1 + (1 - alpha) * dMdHe)"
   ]
  },
  {
   "cell_type": "markdown",
   "metadata": {},
   "source": [
    "Im nächsten Schritt gilt es nun, die dargestellten Differentiale zu integrieren. Der einfachste Ansatz dafür ist das explizite Eulerverfahren, das im [nächsten Notebook](explicit-euler.ipynb) angewendet wird."
   ]
  }
 ],
 "metadata": {
  "kernelspec": {
   "display_name": "Python 3",
   "language": "python",
   "name": "python3"
  },
  "language_info": {
   "codemirror_mode": {
    "name": "ipython",
    "version": 3
   },
   "file_extension": ".py",
   "mimetype": "text/x-python",
   "name": "python",
   "nbconvert_exporter": "python",
   "pygments_lexer": "ipython3",
   "version": "3.6.4"
  }
 },
 "nbformat": 4,
 "nbformat_minor": 2
}
