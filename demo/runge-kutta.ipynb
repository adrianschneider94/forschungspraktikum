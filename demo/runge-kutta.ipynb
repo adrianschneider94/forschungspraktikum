{
 "cells": [
  {
   "cell_type": "code",
   "execution_count": 1,
   "metadata": {},
   "outputs": [],
   "source": [
    "import numpy as np\n",
    "from scipy.constants import mu_0\n",
    "from matplotlib import pyplot as plt\n",
    "from forschungspraktikum.jiles_atherton import JilesAthertonH"
   ]
  },
  {
   "cell_type": "markdown",
   "metadata": {},
   "source": [
    "# Der RK4-Algorithmus\n",
    "\n",
    "Der sehr einfache eulersche Ansatz kann relativ leicht erweitert werden. Ein gängiger Algorithmus, der auf das Eulerverfahren aufbaut ist das klassische Runge-Kutta-Verfahren (RK4). Die Runge-Kutta-Verfahren sind eine Klasse von Integrationsalgorithmen, die für jeden Schritt eine bestimmte Anzahl von Zwischenschritten nutzen, um eine besser Näherung zu erzielen, als dies das Polygonzugverfahren vermag.\n",
    "\n",
    "## Allgemeines Runge-Kutta-Verfahren\n",
    "\n",
    "In einem $m$-stufigen Runge-Kutta-Verfahren werden $m$ Stützpunkte $k_i$ ermittelt, aus denen dann der tatsächliche Schritt errechnet wird. Die einzelnen Stützpunkte $k_i$ ergeben sich aus je einer Funktionsauswertung.\n",
    "Um ein m-stufiges Runge-Kutta-Verfahren zu beschreiben benötigt man je m Gewichte $\\alpha_i$, $\\gamma_i$ sowie $m^2$ Gewichte $\\beta_{i,j}$.\n",
    "\n",
    "Für den nächsten Zeitschritt berechnet man\n",
    "\n",
    "\\begin{equation}\n",
    "\\begin{aligned}\n",
    "\t\\text{Nächster Zeitpunkt} && t_n &= t_{n-1} + h \\\\\n",
    "\t\\text{i-ter Hilfswert} && k_i &= f\\left(y_{n-1} + h \\sum_{j=1}^m \\beta_{i,j}k_j, t_{n-1} + \\alpha_i h\\right) \\\\\n",
    "\t\\text{Nächster Wert} && y_n &= y_{n-1} + h\\sum_{i=1}^m y_i k_i\n",
    "\\end{aligned}\n",
    "\\end{equation}\n",
    "\n",
    "Die Gewichte werden üblicherweise in einem sogenannten Butcher-Tableau dargestellt:\n",
    "\n",
    "\\begin{equation*}\n",
    "\t\\begin{array}{c|ccc}\n",
    "\t\\alpha_1 \t& \\beta_{1,1}   & \\cdots & \\beta_{1,m} \\\\\n",
    "\t\\alpha_2 \t& \\beta_{2,1}   & \\cdots & \\beta_{2,m} \\\\\n",
    "\t\\vdots      & \\vdots        & \\ddots & \\vdots        \\\\\n",
    "\t\\alpha_m    & \\beta_{m,1}   & \\cdots & \\beta_{m,m} \\\\\n",
    "\t\\hline\n",
    "\t            & \\gamma_1      & \\cdots & \\gamma_m\n",
    "\\end{array}\n",
    "\\end{equation*}\n",
    "\n",
    "Ist das Verfahren explizit, so lässt sich die Matrix $\\beta_{i,j}$ als untere Dreiecksmatrix darstellen. Z.B. ist das klassische Runge-Kutta-Verfahren (RK4):\n",
    "\n",
    "\\begin{equation}\n",
    "\\renewcommand\\arraystretch{1.2}\n",
    "\\begin{array}{c|cccc}\n",
    "\t0 &&&& \\\\\n",
    "\t\\tfrac{1}{2} & \\tfrac{1}{2} &&& \\\\\n",
    "\t\\tfrac{1}{2} & 0 & \\tfrac{1}{2} && \\\\\n",
    "\t1 & 0 & 0 & 1 &\\\\\n",
    "\t\\hline\n",
    "\t& \\tfrac{1}{6} & \\tfrac{1}{3} & \\tfrac{1}{3} & \\tfrac{1}{6}\n",
    "\\end{array}\n",
    "\\end{equation}\n",
    "\n",
    "Schreibt man die Definition aus, so erhält man für dieses\n",
    "\n",
    "\\begin{equation}\n",
    "\t\\begin{aligned}\n",
    "\t\tt_n &= t_{n-1} + h \\\\[0.3cm]\n",
    "\t\tk_1 &= f\\left(y_{n-1},\\enspace t_{n-1}\\right) \\\\\n",
    "\t\tk_2 &= f\\left(y_{n-1} + hk_1/2,\\enspace t_{n-1} + h/2\\right) \\\\\n",
    "\t\tk_3 &= f\\left(y_{n-1} + hk_2/2,\\enspace t_{n-1} + h/2\\right) \\\\\n",
    "\t\tk_4 &= f\\left(y_{n-1} + hk_3,\\enspace t_{n-1} + h\\right) \\\\[0.3cm]\n",
    "\t\ty_n &= y_{n-1} + \\tfrac{h}{6}\\left(k_1 + 2k_2 + 2k_3 + k_4 \\right)\n",
    "\t\\end{aligned}\n",
    "\\end{equation}\n",
    "\n",
    "Dieses Verfahren soll im Folgenden nun auf das Jiles-Atherton-Modell angewendet werden."
   ]
  },
  {
   "cell_type": "markdown",
   "metadata": {},
   "source": [
    "## Anwendung des RK4-Algorithmus auf das Jiles-Atherton-Modell\n",
    "\n",
    "Wieder ist die Ausgangsgleichung\n",
    "\n",
    "\\begin{equation}\n",
    "    \\frac{dM}{dH} = f_{JA}\\left(M, H, \\frac{dH}{dt}, p\\right) \\quad \\Rightarrow \\quad \\frac{dM}{dt} = f_{JA}\\left(M, H(t), \\frac{dH}{dt}, p\\right) \\frac{dH(t)}{dt}\n",
    "\\end{equation}\n",
    "\n",
    "Die (sehr kleine) Schwierigkeit hierbei ist, dass t nun mit halber Schrittweite wandert -- für das anregende Feld H benötigen wir nun doppelt so viele Datenpunkte. (Ein alternativer Ansatz wäre, die anregende Funktion direkt im Integrationsalgorithmus einzubauen -- da später aber Messdaten angepasst werden soll, muss auch die Anregung als Zeitreihe dargestellt werden.)\n",
    "Um dies zu lösen wird für die Anregung ein Index mit doppelt so kleiner Schrittweite verwendet. Der Punkt der Magnetisierung $M_i$ gehört also zum Punkt der Anregung $H_{2i}$.\n",
    "\n",
    "\\begin{align}\n",
    "    t_n &= t_{n-1} + h \\\\[0.5cm]\n",
    "    k_1 &= f_{JA}\\left(M_{n-1}, H_{2n-2}, \\left(\\frac{dH}{dt}\\right)_{2n-2}, p\\right)\\left(\\frac{dH}{dt}\\right)_{2n-2} \\\\[0.3cm]\n",
    "    k_2 &= f_{JA}\\left(M_{n-1} + h k_1/2, H_{2n-1}, \\left(\\frac{dH}{dt}\\right)_{2n-1} , p\\right)\\left(\\frac{dH}{dt}\\right)_{2n-1} \\\\[0.3cm]\n",
    "    k_3 &= f_{JA}\\left(M_{n-1} + h k_2/2, H_{2n-1}, \\left(\\frac{dH}{dt}\\right)_{2n-1}, p\\right)\\left(\\frac{dH}{dt}\\right)_{2n-1} \\\\[0.3cm]\n",
    "    k_4 &= f_{JA}\\left(M_{n-1} + h k_3, H_{2n}, \\left(\\frac{dH}{dt}\\right)_{2n}, p\\right)\\left(\\frac{dH}{dt}\\right)_{2n} \\\\[0.5cm]\n",
    "    M_n &= M_{n-1} + \\frac{h}{6}(k_1 + 2k_2 + 2k_3 + k_4)\n",
    "\\end{align}\n",
    "\n",
    "Dis wird nun mit den Parametern aus dem [Modell mit dem expliziten Eulerverfahren](explicit-euler.ipynb) implementiert."
   ]
  },
  {
   "cell_type": "code",
   "execution_count": 2,
   "metadata": {},
   "outputs": [],
   "source": [
    "r = 2.0e-2 # m, Radius\n",
    "i_hat = 20.0 # A, Strom\n",
    "f = 1.0 # Hz, Frequenz\n",
    "n = 5 # Anzahl Perioden\n",
    "n_p = 360# Datenpunkte pro Periode\n",
    "\n",
    "t = np.arange(n * n_p)/(n_p*f) # Zeitvektor\n",
    "current = i_hat*np.sin(2*np.pi*f*t) # Stromvorgabe\n",
    "H = current/(2*np.pi*r) # Resultierende Feldvorgabe\n",
    "\n",
    "# Beispielparameter des Jiles-Atherton-Modells\n",
    "alpha = 0.0021\n",
    "a = 110.5\n",
    "k = 30.0\n",
    "c = 0.4\n",
    "Msat = 1.35e5\n",
    "\n",
    "# Parametervektor\n",
    "p = {'alpha': alpha,\n",
    "     'a': a,\n",
    "     'k': k,\n",
    "     'c': c,\n",
    "     'm_sat': Msat}"
   ]
  },
  {
   "cell_type": "code",
   "execution_count": 3,
   "metadata": {},
   "outputs": [],
   "source": [
    "# Magnetisierung initialisieren, doppelt so große Schrittweite wie Feldvorgabe H!\n",
    "M = np.zeros(int(np.size(H)/2))\n",
    "\n",
    "# Zur Vereinfachung: dH/dt als Vektor aufstellen\n",
    "dHdt = np.zeros(np.size(H))\n",
    "dHdt[1:] = (H[1:] - H[0:-1])/(t[1] - t[0])\n",
    "assert(dHdt[1] == (H[1] - H[0])/(t[1] - t[0]))\n",
    "\n",
    "# Zur Notation: JilesAthertonH -> JA\n",
    "JA = JilesAthertonH"
   ]
  },
  {
   "cell_type": "code",
   "execution_count": 4,
   "metadata": {},
   "outputs": [],
   "source": [
    "# Iteration\n",
    "\n",
    "for n in range(2, len(M)):\n",
    "    h = t[2*n] - t[2*n-2]\n",
    "    k1 = JA(M[n-1], H[2*n-2], dHdt[2*n-2], p)*dHdt[2*n-2]\n",
    "    k2 = JA(M[n-1] + h*k1/2.0, H[2*n-1], dHdt[2*n-1], p)*dHdt[2*n-1]\n",
    "    k3 = JA(M[n-1] + h*k2/2.0, H[2*n-1], dHdt[2*n-1], p)*dHdt[2*n-1]\n",
    "    k4 = JA(M[n-1] + h*k3, H[2*n], dHdt[2*n], p)*dHdt[2*n]\n",
    "    M[n] = M[n-1] + h/6*(k1 + 2*k2 + 2*k3 + k4)"
   ]
  },
  {
   "cell_type": "code",
   "execution_count": 5,
   "metadata": {},
   "outputs": [
    {
     "data": {
      "text/plain": [
       "[<matplotlib.lines.Line2D at 0x11eb828d0>]"
      ]
     },
     "execution_count": 5,
     "metadata": {},
     "output_type": "execute_result"
    },
    {
     "data": {
      "image/png": "[encoded data removed]",
      "text/plain": [
       "<matplotlib.figure.Figure at 0x11cb2b278>"
      ]
     },
     "metadata": {},
     "output_type": "display_data"
    }
   ],
   "source": [
    "# Um die Werte plotten zu können, muss H wieder \"ausgedünnt werden\"\n",
    "\n",
    "H_ = H[::2]\n",
    "B = mu_0*(H_ + M)\n",
    "plt.plot(H_, B)"
   ]
  }
 ],
 "metadata": {
  "kernelspec": {
   "display_name": "Python 3",
   "language": "python",
   "name": "python3"
  },
  "language_info": {
   "codemirror_mode": {
    "name": "ipython",
    "version": 3
   },
   "file_extension": ".py",
   "mimetype": "text/x-python",
   "name": "python",
   "nbconvert_exporter": "python",
   "pygments_lexer": "ipython3",
   "version": "3.6.4"
  }
 },
 "nbformat": 4,
 "nbformat_minor": 2
}
