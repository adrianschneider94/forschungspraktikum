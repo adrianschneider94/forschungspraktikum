{
 "cells": [
  {
   "cell_type": "code",
   "execution_count": 1,
   "metadata": {},
   "outputs": [],
   "source": [
    "%matplotlib inline\n",
    "from forschungspraktikum.jiles_atherton.functions import get_gradient, jiles_atherton_H, get_cost, JilesAthertonModel\n",
    "from scipy.optimize import minimize\n",
    "from scipy import signal\n",
    "import numpy as np\n",
    "import matplotlib.pyplot as plt\n",
    "from scipy.constants import mu_0\n",
    "import time"
   ]
  },
  {
   "cell_type": "code",
   "execution_count": 2,
   "metadata": {},
   "outputs": [],
   "source": [
    "# Beispielparameter des Jiles-Atherton-Modells\n",
    "alpha = 0.001\n",
    "a = 110.5\n",
    "k = 30.0\n",
    "c = 0.4\n",
    "Msat = 1.35e5\n",
    "\n",
    "params = [alpha, a, Msat, k, c]\n",
    "\n",
    "# Eingangsgrößen\n",
    "r = 2.0e-2 # m, Radius\n",
    "i_hat = 100.0 # A, Strom\n",
    "f = 1000.0 # Hz, Frequenz\n",
    "n = 3 # Anzahl Perioden\n",
    "n_p = 512# Datenpunkte pro Periode\n"
   ]
  },
  {
   "cell_type": "code",
   "execution_count": 3,
   "metadata": {},
   "outputs": [],
   "source": [
    "t = np.arange(n * n_p)/(n_p*f) # Zeitvektor\n",
    "current = i_hat*np.cos(2*np.pi*f*t) # Stromvorgabe\n",
    "H = current/(2*np.pi*r) # Resultierende Feldvorgabe"
   ]
  },
  {
   "cell_type": "code",
   "execution_count": 4,
   "metadata": {},
   "outputs": [],
   "source": [
    "p_test = [alpha*2, a-50, Msat-1.0e5, k, c+0.5]\n",
    "\n",
    "M_test = np.array(jiles_atherton_H(H, t, p_test)) + 10*np.random.normal(0.0, 100.0, int(t.size/2))"
   ]
  },
  {
   "cell_type": "code",
   "execution_count": 5,
   "metadata": {},
   "outputs": [
    {
     "name": "stdout",
     "output_type": "stream",
     "text": [
      "43.11465096473694\n"
     ]
    }
   ],
   "source": [
    "model = JilesAthertonModel(H, M_test, t)\n",
    "\n",
    "def function_to_optimize(x):\n",
    "    model.calculate(x)\n",
    "    return model.get_cost(x)\n",
    "\n",
    "def grad(x):\n",
    "    return model.get_gradient(x)\n",
    "\n",
    "def hess(x):\n",
    "    return model.get_hessian(x)\n",
    "\n",
    "def callback(x):\n",
    "    pass#print(x)\n",
    "\n",
    "t1 = time.time()\n",
    "res = minimize(function_to_optimize, params, \n",
    "               method='TNC', options={'maxiter': 10000, 'disp': True}, \n",
    "               callback=callback,\n",
    "               jac=grad,\n",
    "               tol=1.0e-8,\n",
    "               bounds = [(0, None), (0, None), (0, None), (0, None), (0, None)]\n",
    "              )\n",
    "t2 = time.time()\n",
    "print(t2 - t1)"
   ]
  },
  {
   "cell_type": "code",
   "execution_count": 6,
   "metadata": {},
   "outputs": [
    {
     "name": "stdout",
     "output_type": "stream",
     "text": [
      "     fun: 237409.3553886617\n",
      "     jac: [-0.001661050066104508, 2.7849977279293878e-05, 2.1214689361644242e-07, -0.003925416691958006, 0.46862446399768665]\n",
      " message: 'Converged (|x_n-x_(n-1)| ~= 0)'\n",
      "    nfev: 1063\n",
      "     nit: 352\n",
      "  status: 2\n",
      " success: True\n",
      "       x: array([  2.46761645e-03,   6.59545873e+01,   3.52475810e+04,\n",
      "         2.06880313e+01,   8.41997688e-01])\n"
     ]
    }
   ],
   "source": [
    "print(res)"
   ]
  },
  {
   "cell_type": "code",
   "execution_count": 7,
   "metadata": {},
   "outputs": [],
   "source": [
    "M = jiles_atherton_H(H, t, p_test)\n",
    "M_ = jiles_atherton_H(H, t, res.x)\n",
    "M_i = jiles_atherton_H(H, t, params)"
   ]
  },
  {
   "cell_type": "code",
   "execution_count": 28,
   "metadata": {},
   "outputs": [
    {
     "data": {
      "image/png": "[encoded data removed]",
      "text/plain": [
       "<matplotlib.figure.Figure at 0x11eef20b8>"
      ]
     },
     "metadata": {
      "needs_background": "light"
     },
     "output_type": "display_data"
    }
   ],
   "source": [
    "fig = plt.figure()\n",
    "plt.rc('text', usetex=True)\n",
    "plt.rc('font', family='serif')\n",
    "fig.set_size_inches(5.2, 3)\n",
    "ax = fig.add_subplot(111)\n",
    "ax.plot(t[::2], (np.array(M_test) + H[::2])*mu_0, label=\"Testdaten\", linewidth=0.5)\n",
    "ax.plot(t[::2], (np.array(M_) + H[::2])*mu_0, label=\"Fit\", linewidth=.5)\n",
    "ax.set_xlabel('Zeit in s')\n",
    "ax.set_ylabel('Magnetisierung in A/m')\n",
    "#plt.plot(t[::2], (np.array(M_i) + H[::2])*mu_0)\n",
    "#plt.plot(t[::2], M_i)\n",
    "plt.legend(loc=1)\n",
    "plt.tight_layout()\n",
    "plt.savefig('fit.pdf')"
   ]
  },
  {
   "cell_type": "code",
   "execution_count": 170,
   "metadata": {},
   "outputs": [
    {
     "name": "stdout",
     "output_type": "stream",
     "text": [
      "[  2.16437689e-03   6.24690901e+01   3.51076240e+04   2.72902493e+01\n",
      "   9.16344872e-01] [0.002, 60.5, 35000.0, 30.0, 0.9]\n",
      "[ 0.08218845  0.03254694  0.00307497  0.09032502  0.01816097]\n"
     ]
    }
   ],
   "source": [
    "res_ = np.array(res.x)\n",
    "p_test_ = np.array(p_test)\n",
    "print(res_, p_test)\n",
    "print(np.abs((1 - res_/p_test_)))"
   ]
  },
  {
   "cell_type": "code",
   "execution_count": null,
   "metadata": {},
   "outputs": [],
   "source": [
    "np.savetxt(\"test_data.txt\", np.array([t[::2], 100.0*np.array(M)]).T)\n",
    "np.savetxt(\"result.txt\", np.array([t[::2], 100.0*np.array(M_)]).T)"
   ]
  },
  {
   "cell_type": "code",
   "execution_count": null,
   "metadata": {},
   "outputs": [],
   "source": []
  }
 ],
 "metadata": {
  "kernelspec": {
   "display_name": "Forschungspraktikum",
   "language": "python",
   "name": "forschungspraktikum"
  },
  "language_info": {
   "codemirror_mode": {
    "name": "ipython",
    "version": 3
   },
   "file_extension": ".py",
   "mimetype": "text/x-python",
   "name": "python",
   "nbconvert_exporter": "python",
   "pygments_lexer": "ipython3",
   "version": "3.6.4"
  }
 },
 "nbformat": 4,
 "nbformat_minor": 2
}
